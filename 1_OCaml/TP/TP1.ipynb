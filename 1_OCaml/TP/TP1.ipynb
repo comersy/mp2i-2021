{
 "cells": [
  {
   "cell_type": "markdown",
   "id": "4ef1c104",
   "metadata": {},
   "source": [
    "# TP1 : Types, variables, fonctions"
   ]
  },
  {
   "cell_type": "markdown",
   "id": "becd8118",
   "metadata": {},
   "source": [
    "## Types\n",
    "\n",
    "Devinez le type des fonctions suivantes et vérifier avec OCaml :\n",
    "```ocaml\n",
    "let f x y = x**y (* float -> float -> float *)\n",
    "```\n",
    "```ocaml\n",
    "let g x y = x (y + 1) (* (int -> 'a) -> int -> 'a *)\n",
    "```\n",
    "```ocaml\n",
    "let h x y z = x (3. *. (y z)) + 1 (* (float -> int) -> ('a -> float) -> 'a -> int *)\n",
    "```\n",
    "Puis tester ces fonctions sur des arguments de votre choix."
   ]
  },
  {
   "cell_type": "code",
   "execution_count": 1,
   "id": "0b6a6655-cee6-40a6-bd7c-4fa16358fc84",
   "metadata": {},
   "outputs": [
    {
     "data": {
      "text/plain": [
       "val f : float -> float -> float = <fun>\n"
      ]
     },
     "execution_count": 1,
     "metadata": {},
     "output_type": "execute_result"
    },
    {
     "data": {
      "text/plain": [
       "val g : (int -> 'a) -> int -> 'a = <fun>\n"
      ]
     },
     "execution_count": 1,
     "metadata": {},
     "output_type": "execute_result"
    },
    {
     "data": {
      "text/plain": [
       "val h : (float -> int) -> ('a -> float) -> 'a -> int = <fun>\n"
      ]
     },
     "execution_count": 1,
     "metadata": {},
     "output_type": "execute_result"
    }
   ],
   "source": [
    "let f x y = x**y;;\n",
    "let g x y = x (y + 1);;\n",
    "let h x y z = x (3. *. (y z)) + 1;;"
   ]
  },
  {
   "cell_type": "markdown",
   "id": "23e9b523",
   "metadata": {},
   "source": [
    "## Tangente hyperbolique\n",
    "\n",
    "Définir en OCaml la fonction $\\tanh : x \\longmapsto \\frac{e^x - e^{-x}}{e^x + e^{-x}}$ en utilisant un seul appel à la fonction `exp : float -> float` de OCaml."
   ]
  },
  {
   "cell_type": "code",
   "execution_count": 4,
   "id": "1432b731-3655-48d6-9d21-9602378c3897",
   "metadata": {},
   "outputs": [
    {
     "data": {
      "text/plain": [
       "val tanh2 : float -> float = <fun>\n"
      ]
     },
     "execution_count": 4,
     "metadata": {},
     "output_type": "execute_result"
    }
   ],
   "source": [
    "let tanh2 x = \n",
    "    let a = exp x in\n",
    "    (a -. a**(-1.)) /. (a +. a**(-1.));;"
   ]
  },
  {
   "cell_type": "markdown",
   "id": "74da135f",
   "metadata": {},
   "source": [
    "## Géométrie\n",
    "\n",
    "Le type `float*float` désigne un couple de flottant, représentant un point `p` dans $\\mathbb{R}^2$. On peut récupérer les coordonnées de `p` avec `let x, y = p` . Par exemple :"
   ]
  },
  {
   "cell_type": "code",
   "execution_count": 1,
   "id": "7073f5d1",
   "metadata": {
    "execution": {
     "iopub.execute_input": "2021-09-09T19:25:52.406644Z",
     "iopub.status.busy": "2021-09-09T19:25:52.405787Z",
     "iopub.status.idle": "2021-09-09T19:25:52.409142Z",
     "shell.execute_reply": "2021-09-09T19:25:52.408391Z"
    }
   },
   "outputs": [
    {
     "data": {
      "text/plain": [
       "- : float = 2.1\n"
      ]
     },
     "execution_count": 1,
     "metadata": {},
     "output_type": "execute_result"
    }
   ],
   "source": [
    "let p = (2.1, 3.7) in (* exemple de point *)\n",
    "let x, y = p in (* récupération des coordonnées *)\n",
    "x;; (* affichage de x *)"
   ]
  },
  {
   "cell_type": "markdown",
   "id": "898ce016",
   "metadata": {},
   "source": [
    "**Exercice** Écrire une fonction `aire_boule : float -> float` telle que `aire_boule r` renvoie l'aire d'une boule (disque en dimension 3) de rayon `r`, c'est à dire $\\frac{4 \\pi r^3}{3}$. On pourra utiliser `Float.pi`."
   ]
  },
  {
   "cell_type": "code",
   "execution_count": 5,
   "id": "e5e2c958-cfbe-49dc-8db1-8f240c515855",
   "metadata": {},
   "outputs": [
    {
     "data": {
      "text/plain": [
       "val aire_boule : float -> float = <fun>\n"
      ]
     },
     "execution_count": 5,
     "metadata": {},
     "output_type": "execute_result"
    }
   ],
   "source": [
    "let aire_boule r =\n",
    "(4. *. Float.pi *. r**3.) /. 3.;;"
   ]
  },
  {
   "cell_type": "markdown",
   "id": "18817317",
   "metadata": {},
   "source": [
    "**Exercice** Écrire une fonction `distance : float*float -> float*float -> float` telle que `distance p1 p2` renvoie la distance euclidienne entre les points `p1` et `p2`.  \n",
    "Vérifier que la distance entre $(0, 0)$ et $(1, 1)$ est (approximativement) $\\sqrt{2}$."
   ]
  },
  {
   "cell_type": "code",
   "execution_count": 7,
   "id": "534e8c54-e5e8-48db-aef9-9694cd2e9fc0",
   "metadata": {},
   "outputs": [
    {
     "data": {
      "text/plain": [
       "val distance : float * float -> float * float -> float = <fun>\n"
      ]
     },
     "execution_count": 7,
     "metadata": {},
     "output_type": "execute_result"
    },
    {
     "data": {
      "text/plain": [
       "- : float = 1.41421356237309515\n"
      ]
     },
     "execution_count": 7,
     "metadata": {},
     "output_type": "execute_result"
    }
   ],
   "source": [
    "let distance (x1,y1) (x2,y2) = \n",
    "((x2 -. x1)**2. +. (y2 -. y1)**2. )**0.5;;\n",
    "distance (0.,0.) (1.,1.)"
   ]
  },
  {
   "cell_type": "markdown",
   "id": "6be0092c",
   "metadata": {},
   "source": [
    "**Exercice** Écrire une fonction `polaire : float*float -> float*float` qui, étant donné les coordonnées polaires $(r, \\theta)$ d'un point, renvoie ses coordonnées cartésiennes $(x, y)$. On rappelle que $x = r\\cos(\\theta)$ et $y = r\\sin(\\theta)$. On pourra utiliser `cos` et `sin` en OCaml."
   ]
  },
  {
   "cell_type": "code",
   "execution_count": 9,
   "id": "9e4af5a2-8345-40ff-9117-fbf549663002",
   "metadata": {},
   "outputs": [
    {
     "data": {
      "text/plain": [
       "val polaire : float * float -> float * float = <fun>\n"
      ]
     },
     "execution_count": 9,
     "metadata": {},
     "output_type": "execute_result"
    }
   ],
   "source": [
    "let polaire (r,t) = \n",
    "let x = r*.cos(t) in\n",
    "let y = r*.sin(t) in\n",
    "x,y;;"
   ]
  },
  {
   "cell_type": "markdown",
   "id": "2992c0fe",
   "metadata": {},
   "source": [
    "**Exercice** Écrire une fonction `milieu : float*float -> float*float -> float*float` telle que `milieu p1 p2` renvoie le milieu du segment d'extrémités `p1` et `p2`."
   ]
  },
  {
   "cell_type": "code",
   "execution_count": 11,
   "id": "77d959be-07af-4200-9e06-c1d4aa2f91b9",
   "metadata": {},
   "outputs": [
    {
     "data": {
      "text/plain": [
       "val milieu : float * float -> float * float -> float * float = <fun>\n"
      ]
     },
     "execution_count": 11,
     "metadata": {},
     "output_type": "execute_result"
    }
   ],
   "source": [
    "let milieu (x1,y1) (x2,y2) = \n",
    "let xi = (x1+.x2) /. 2. in\n",
    "let yi = (y1+.y2) /. 2. in\n",
    "xi,yi;;"
   ]
  },
  {
   "cell_type": "markdown",
   "id": "b0d67dd4",
   "metadata": {},
   "source": [
    "**Exercice** Écrire une fonction `parallelogramme : float*float -> float*float -> float*float -> float*float -> bool` telle que `parallelogramme p1 p2 p3 p4` renvoie `true` si les points `p1`, `p1`, `p1`, `p1` forment un parallélogramme, c'est à dire si les côtés opposés sont (approximativement) de même longueur.  \n",
    "On fera attention à ne pas comparer 2 flottants avec `=`, mais regarder à la place si la différence est petite (< 0.001 par exemple)."
   ]
  },
  {
   "cell_type": "code",
   "execution_count": 20,
   "id": "46a4e515",
   "metadata": {
    "tags": []
   },
   "outputs": [
    {
     "data": {
      "text/plain": [
       "val parallelogramme :\n",
       "  float * float -> float * float -> float * float -> float * float -> bool =\n",
       "  <fun>\n"
      ]
     },
     "execution_count": 20,
     "metadata": {},
     "output_type": "execute_result"
    }
   ],
   "source": [
    "let parallelogramme (x1,y1) (x2,y2) (x3,y3) (x4,y4) = \n",
    "if distance (x1,y1) (x2,y2) -. distance (x3,y3) (x4,y4) < 0.001 then true \n",
    "else false;;"
   ]
  },
  {
   "cell_type": "markdown",
   "id": "8a89d768",
   "metadata": {},
   "source": [
    "## Congruence\n",
    "\n",
    "Le but de cet exercice est de calculer $1357^{2013}$ mod $5$ (mais la méthode utilisée s'applique dans un grande nombre d'exercices mathématiques).  \n",
    "On rappelle que les congruences sont compatibles avec la puissance :\n",
    "$$a \\equiv b [n] \\Longrightarrow a^k \\equiv b^k [n]$$\n",
    "\n",
    "1. Soit $k$ un entier positif. Que vaut $2^{4k}$ mod $5$? On pourra calculer des valeurs avec OCaml puis le démontrer mathématiquement.\n",
    "2. Que vaut $1357$ mod $5$? En déduire la valeur de $1357^{2013}$ mod $5$."
   ]
  },
  {
   "cell_type": "code",
   "execution_count": 21,
   "id": "843cc0fb-b1a5-499b-941d-f58d3540ae09",
   "metadata": {},
   "outputs": [
    {
     "data": {
      "text/plain": [
       "- : int = 1\n"
      ]
     },
     "execution_count": 21,
     "metadata": {},
     "output_type": "execute_result"
    },
    {
     "data": {
      "text/plain": [
       "- : int = 1\n"
      ]
     },
     "execution_count": 21,
     "metadata": {},
     "output_type": "execute_result"
    },
    {
     "data": {
      "text/plain": [
       "- : int = 1\n"
      ]
     },
     "execution_count": 21,
     "metadata": {},
     "output_type": "execute_result"
    },
    {
     "data": {
      "text/plain": [
       "- : int = 1\n"
      ]
     },
     "execution_count": 21,
     "metadata": {},
     "output_type": "execute_result"
    }
   ],
   "source": [
    "1 mod 5;;\n",
    "16 mod 5;;\n",
    "256 mod 5;;\n",
    "4096 mod 5;; \n",
    "(* On calcule les valeurs de 2**4k mod 5 pour k=0 k=1 k=2 et k=3. A chaque fois, le résultat est 1.\n",
    "Prouvons mathématiquement que pour tout k € N*, 2**4k mod 5 = 1.\n",
    "2**4k = (2**4)**k = 16**k.\n",
    "Or, 16 mod 5 = 1\n",
    "Donc, 16**k mod 5 = 1**k = 1\n",
    "Donc, pour tout k € N*, 2**4k mod 5 = 1*)"
   ]
  },
  {
   "cell_type": "code",
   "execution_count": 1,
   "id": "fd0fb244-1e49-4d12-b915-b82afb57d81e",
   "metadata": {},
   "outputs": [
    {
     "data": {
      "text/plain": [
       "- : int = 2\n"
      ]
     },
     "execution_count": 1,
     "metadata": {},
     "output_type": "execute_result"
    },
    {
     "data": {
      "text/plain": [
       "- : int = 4\n"
      ]
     },
     "execution_count": 1,
     "metadata": {},
     "output_type": "execute_result"
    },
    {
     "data": {
      "text/plain": [
       "- : int = 3\n"
      ]
     },
     "execution_count": 1,
     "metadata": {},
     "output_type": "execute_result"
    },
    {
     "data": {
      "text/plain": [
       "- : int = 1\n"
      ]
     },
     "execution_count": 1,
     "metadata": {},
     "output_type": "execute_result"
    }
   ],
   "source": [
    "1357 mod 5;;\n",
    "1357*1357 mod 5;;\n",
    "1357*1357*1357 mod 5;;\n",
    "1357*1357*1357*1357 mod 5;;\n",
    "(*1357 mod 5 = 2. On cherche k tel que 1357**k mod 5 = 1. Or, pour k= 4, on a 1357**4 mod 5 = 1.\n",
    "Donc, (1357**4)**503 mod 5 = 1**503 = 1\n",
    "Donc, 1357**2012 mod 5 = 1\n",
    "Donc, 1357**2012 * 1357 mod 5 = 1*1357 = 1357\n",
    "Or, 1357 mod 5 = 2.\n",
    "Donc, 1357**2013 mod 5 = 2.*)"
   ]
  },
  {
   "cell_type": "markdown",
   "id": "60c42e47",
   "metadata": {},
   "source": [
    "## Nombres aléatoires\n",
    "\n",
    "`Random.int n` permet d'obtenir un entier uniformément au hasard entre 0 et `n - 1` (chacun de ces entiers a la même probabilité $\\frac{1}{n}$ d'être obtenu).  \n",
    "Dans cet exercice, on imagine que l'on possède comme seule source aléatoire un dé à 5 faces (c'est à dire que l'on a seulement le droit d'utiliser `Random.int 5`).\n",
    "\n",
    "1. Calculer `(Random.int 5) + (Random.int 5)` plusieurs fois. Est-ce que le résultat vous semble être un entier uniformément au hasard entre 0 et 8?  \n",
    "2. Quelle est la probabilité d'obtenir `0` avec `(Random.int 5) + (Random.int 5)`? D'obtenir `1`? Quelle est l'entier qui a le plus de chances d'apparaître?\n",
    "3. Comment générer uniformément un entier entre 0 et 24? (C'est à dire passer de 5 possibilités à 25)\n",
    "3. Comment générer uniformément un entier entre 0 et 6? Écrire une fonction pour le faire. On utilisera une méthode par rejection (rejection sampling) : générer dans un espace plus grand et regénérer si la valeur n'est pas dans l'intervalle souhaité.  \n",
    "Pour cela on utilisera une boucle while :\n",
    "```ocaml\n",
    "while ... do\n",
    "    ...\n",
    "done\n",
    "```"
   ]
  },
  {
   "cell_type": "code",
   "execution_count": null,
   "id": "57e3439e-f4b9-415c-9ff5-d93b4cb1ad91",
   "metadata": {},
   "outputs": [],
   "source": [
    "(Random.int 5) + (Random.int 5);;\n",
    "(Random.int 5) + (Random.int 5);;\n",
    "(Random.int 5) + (Random.int 5);;\n",
    "(Random.int 5) + (Random.int 5);;\n",
    "(Random.int 5) + (Random.int 5);;\n",
    "(Random.int 5) + (Random.int 5);;\n",
    "(Random.int 5) + (Random.int 5);;\n",
    "(*Après plusieurs essais, le résultat semble être un numéro entre 0 et 8 mais certains nombres sont plus\n",
    "récurrents que d'autres.*)"
   ]
  },
  {
   "cell_type": "code",
   "execution_count": null,
   "id": "6a53b4ac-6f67-49c2-a64b-124f53070df5",
   "metadata": {},
   "outputs": [],
   "source": [
    "(* \n",
    "Probabilité d'obtenir 0 : 1/5 * 1/5 = 1/25 (0 au premier lancer et 0 au deuxième)\n",
    "\n",
    "Probabilité d'obtenir 1 : 1/5 * 1/5 * 2 = 2/25 \n",
    "(1 au premier lancer et 0 au deuxième ou l'inverse)\n",
    "\n",
    "Probabilité d'obtenir 2 : 1/5 * 1/5 * 3 = 3/25\n",
    "(1 au premier et 1 au deuxième. 2 au premier et 0 au deuxième ou l'inverse)\n",
    "\n",
    "Probabilité d'obtenir 3 : 1/5 * 1/5 * 4 = 4/25\n",
    "(1 au premier et 2 au deuxième ou l'inverse. 3 au premier et 0 au deuxième ou l'inverse)\n",
    "\n",
    "Probabilité d'obtenir 4 : 1/5 * 1/5 * 5 = 5/25\n",
    "(4 au premier et 0 au deuxième ou l'inverse. 3 au premier et 1 au deuxième ou l'inverse. \n",
    "2 au premier et au deuxième)\n",
    "\n",
    "Probabilité d'obtenir 5 : 1/5 * 1/5 * 4 = 4/25\n",
    "(4 au premier et 1 au deuxième ou l'inverse. 3 au premier et 2 au deuxième ou l'inverse)\n",
    "\n",
    "Probabilité d'obtenir 6 : 1/5 * 1/5 * 5 = 3/25\n",
    "(4 au premier et 2 au deuxième ou l'inverse. 3 au premier et au deuxième)\n",
    "\n",
    "Probabilité d'obtenir 7 : 1/5 * 1/5 * 4 = 2/25\n",
    "(4 au premier et 3 au deuxième ou l'inverse)\n",
    "\n",
    "Probabilité d'obtenir 8 : 1/5 * 1/5 = 1/25\n",
    "(4 au premier et au deuxième)\n",
    "\n",
    "Donc, l'entier qui a le plus de chance d'apparaître est 4 avec une probabilité de 1 chance sur 5. \n",
    "*)"
   ]
  }
 ],
 "metadata": {
  "kernelspec": {
   "display_name": "OCaml default",
   "language": "OCaml",
   "name": "ocaml-jupyter"
  },
  "language_info": {
   "codemirror_mode": "text/x-ocaml",
   "file_extension": ".ml",
   "mimetype": "text/x-ocaml",
   "name": "OCaml",
   "nbconverter_exporter": null,
   "pygments_lexer": "OCaml",
   "version": "4.08.1"
  }
 },
 "nbformat": 4,
 "nbformat_minor": 5
}
